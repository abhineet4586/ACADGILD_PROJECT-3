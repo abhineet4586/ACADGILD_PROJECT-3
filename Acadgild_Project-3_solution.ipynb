{
 "cells": [
  {
   "cell_type": "markdown",
   "metadata": {},
   "source": [
    "1. Prediction task is to determine whether a person makes over 50K a year."
   ]
  },
  {
   "cell_type": "code",
   "execution_count": 1,
   "metadata": {},
   "outputs": [],
   "source": [
    "import pandas as pd\n",
    "import numpy as np\n",
    "from sklearn.preprocessing import LabelEncoder, OneHotEncoder\n",
    "from sklearn import preprocessing\n",
    "from sklearn.preprocessing import StandardScaler\n",
    "from sklearn.model_selection import train_test_split\n",
    "from sklearn.tree import DecisionTreeClassifier\n",
    "from xgboost import XGBClassifier\n",
    "from sklearn.ensemble import RandomForestClassifier\n",
    "from sklearn import metrics\n",
    "from sklearn.metrics import confusion_matrix\n",
    "from sklearn.metrics import mean_squared_error"
   ]
  },
  {
   "cell_type": "code",
   "execution_count": 2,
   "metadata": {},
   "outputs": [
    {
     "name": "stdout",
     "output_type": "stream",
     "text": [
      "Training Data-set:\n",
      "    age          workclass  fnlwgt   education  education-num  \\\n",
      "0   39          State-gov   77516   Bachelors             13   \n",
      "1   50   Self-emp-not-inc   83311   Bachelors             13   \n",
      "2   38            Private  215646     HS-grad              9   \n",
      "3   53            Private  234721        11th              7   \n",
      "4   28            Private  338409   Bachelors             13   \n",
      "\n",
      "        marital-status          occupation    relationship    race      sex  \\\n",
      "0        Never-married        Adm-clerical   Not-in-family   White     Male   \n",
      "1   Married-civ-spouse     Exec-managerial         Husband   White     Male   \n",
      "2             Divorced   Handlers-cleaners   Not-in-family   White     Male   \n",
      "3   Married-civ-spouse   Handlers-cleaners         Husband   Black     Male   \n",
      "4   Married-civ-spouse      Prof-specialty            Wife   Black   Female   \n",
      "\n",
      "   capital-gain  capital-loss  avg-hours-per-week  native-country  income  \n",
      "0          2174             0                  40   United-States   <=50K  \n",
      "1             0             0                  13   United-States   <=50K  \n",
      "2             0             0                  40   United-States   <=50K  \n",
      "3             0             0                  40   United-States   <=50K  \n",
      "4             0             0                  40            Cuba   <=50K  \n",
      "Testing Data-set:\n",
      "                     age   workclass    fnlwgt      education  education-num  \\\n",
      "0  |1x3 Cross validator         NaN       NaN            NaN            NaN   \n",
      "1                    25     Private  226802.0           11th            7.0   \n",
      "2                    38     Private   89814.0        HS-grad            9.0   \n",
      "3                    28   Local-gov  336951.0     Assoc-acdm           12.0   \n",
      "4                    44     Private  160323.0   Some-college           10.0   \n",
      "\n",
      "        marital-status          occupation relationship    race    sex  \\\n",
      "0                  NaN                 NaN          NaN     NaN    NaN   \n",
      "1        Never-married   Machine-op-inspct    Own-child   Black   Male   \n",
      "2   Married-civ-spouse     Farming-fishing      Husband   White   Male   \n",
      "3   Married-civ-spouse     Protective-serv      Husband   White   Male   \n",
      "4   Married-civ-spouse   Machine-op-inspct      Husband   Black   Male   \n",
      "\n",
      "   capital-gain  capital-loss  avg-hours-per-week  native-country   income  \n",
      "0           NaN           NaN                 NaN             NaN      NaN  \n",
      "1           0.0           0.0                40.0   United-States   <=50K.  \n",
      "2           0.0           0.0                50.0   United-States   <=50K.  \n",
      "3           0.0           0.0                40.0   United-States    >50K.  \n",
      "4        7688.0           0.0                40.0   United-States    >50K.  \n"
     ]
    }
   ],
   "source": [
    "# loading a taining and test dataset from URL into a pandas dataframe.\n",
    "col_name = ['age','workclass','fnlwgt','education','education-num','marital-status','occupation','relationship','race','sex','capital-gain','capital-loss','avg-hours-per-week','native-country','income']\n",
    "train_set=pd.read_csv('http://archive.ics.uci.edu/ml/machine-learning-databases/adult/adult.data', names = col_name)\n",
    "test_set = pd.read_csv(\"http://archive.ics.uci.edu/ml/machine-learning-databases/adult/adult.test\", names = col_name)\n",
    "print(\"Training Data-set:\\n\",train_set.head())\n",
    "print(\"Testing Data-set:\\n\",test_set.head())"
   ]
  },
  {
   "cell_type": "code",
   "execution_count": 3,
   "metadata": {},
   "outputs": [
    {
     "name": "stdout",
     "output_type": "stream",
     "text": [
      "Testing Data-set:\n",
      "   age   workclass    fnlwgt      education  education-num  \\\n",
      "1  25     Private  226802.0           11th            7.0   \n",
      "2  38     Private   89814.0        HS-grad            9.0   \n",
      "3  28   Local-gov  336951.0     Assoc-acdm           12.0   \n",
      "4  44     Private  160323.0   Some-college           10.0   \n",
      "5  18           ?  103497.0   Some-college           10.0   \n",
      "\n",
      "        marital-status          occupation relationship    race      sex  \\\n",
      "1        Never-married   Machine-op-inspct    Own-child   Black     Male   \n",
      "2   Married-civ-spouse     Farming-fishing      Husband   White     Male   \n",
      "3   Married-civ-spouse     Protective-serv      Husband   White     Male   \n",
      "4   Married-civ-spouse   Machine-op-inspct      Husband   Black     Male   \n",
      "5        Never-married                   ?    Own-child   White   Female   \n",
      "\n",
      "   capital-gain  capital-loss  avg-hours-per-week  native-country   income  \n",
      "1           0.0           0.0                40.0   United-States   <=50K.  \n",
      "2           0.0           0.0                50.0   United-States   <=50K.  \n",
      "3           0.0           0.0                40.0   United-States    >50K.  \n",
      "4        7688.0           0.0                40.0   United-States    >50K.  \n",
      "5           0.0           0.0                30.0   United-States   <=50K.  \n"
     ]
    }
   ],
   "source": [
    "# removing first row from test data set as it is irrelevant\n",
    "test_set.drop(test_set.index[[0]],inplace=True)\n",
    "print(\"Testing Data-set:\\n\",test_set.head())"
   ]
  },
  {
   "cell_type": "code",
   "execution_count": 4,
   "metadata": {},
   "outputs": [],
   "source": [
    "# Converting \"income\" column '>50K' as 1 and '<=50K' as 0\n",
    "train_set[\"income\"] = train_set[\"income\"].map({ \" <=50K\": 0, \" >50K\": 1 })\n",
    "test_set[\"income\"] = test_set[\"income\"].map({ \" <=50K.\": 0, \" >50K.\": 1 })"
   ]
  },
  {
   "cell_type": "code",
   "execution_count": 5,
   "metadata": {},
   "outputs": [
    {
     "name": "stdout",
     "output_type": "stream",
     "text": [
      "Training Data-set:\n",
      "    age          workclass  fnlwgt   education  education-num  \\\n",
      "0   39          State-gov   77516   Bachelors             13   \n",
      "1   50   Self-emp-not-inc   83311   Bachelors             13   \n",
      "2   38            Private  215646     HS-grad              9   \n",
      "3   53            Private  234721        11th              7   \n",
      "4   28            Private  338409   Bachelors             13   \n",
      "\n",
      "        marital-status          occupation    relationship    race      sex  \\\n",
      "0        Never-married        Adm-clerical   Not-in-family   White     Male   \n",
      "1   Married-civ-spouse     Exec-managerial         Husband   White     Male   \n",
      "2             Divorced   Handlers-cleaners   Not-in-family   White     Male   \n",
      "3   Married-civ-spouse   Handlers-cleaners         Husband   Black     Male   \n",
      "4   Married-civ-spouse      Prof-specialty            Wife   Black   Female   \n",
      "\n",
      "   capital-gain  capital-loss  avg-hours-per-week  native-country  income  \n",
      "0          2174             0                  40   United-States       0  \n",
      "1             0             0                  13   United-States       0  \n",
      "2             0             0                  40   United-States       0  \n",
      "3             0             0                  40   United-States       0  \n",
      "4             0             0                  40            Cuba       0  \n",
      "Testing Data-set:\n",
      "   age   workclass    fnlwgt      education  education-num  \\\n",
      "1  25     Private  226802.0           11th            7.0   \n",
      "2  38     Private   89814.0        HS-grad            9.0   \n",
      "3  28   Local-gov  336951.0     Assoc-acdm           12.0   \n",
      "4  44     Private  160323.0   Some-college           10.0   \n",
      "5  18           ?  103497.0   Some-college           10.0   \n",
      "\n",
      "        marital-status          occupation relationship    race      sex  \\\n",
      "1        Never-married   Machine-op-inspct    Own-child   Black     Male   \n",
      "2   Married-civ-spouse     Farming-fishing      Husband   White     Male   \n",
      "3   Married-civ-spouse     Protective-serv      Husband   White     Male   \n",
      "4   Married-civ-spouse   Machine-op-inspct      Husband   Black     Male   \n",
      "5        Never-married                   ?    Own-child   White   Female   \n",
      "\n",
      "   capital-gain  capital-loss  avg-hours-per-week  native-country  income  \n",
      "1           0.0           0.0                40.0   United-States       0  \n",
      "2           0.0           0.0                50.0   United-States       0  \n",
      "3           0.0           0.0                40.0   United-States       1  \n",
      "4        7688.0           0.0                40.0   United-States       1  \n",
      "5           0.0           0.0                30.0   United-States       0  \n"
     ]
    }
   ],
   "source": [
    "print(\"Training Data-set:\\n\",train_set.head())\n",
    "print(\"Testing Data-set:\\n\",test_set.head())"
   ]
  },
  {
   "cell_type": "code",
   "execution_count": 6,
   "metadata": {},
   "outputs": [],
   "source": [
    "# Encoding all categorical column of \"train_set\" and \"test_set\" data\n",
    "for x in train_set.columns:\n",
    "    if train_set[x].dtype == 'object':\n",
    "        lbl = preprocessing.LabelEncoder()\n",
    "        lbl.fit(list(train_set[x].values))\n",
    "        train_set[x] = lbl.transform(list(train_set[x].values))\n",
    "for x in test_set.columns:\n",
    "    if test_set[x].dtype == 'object':\n",
    "        lbl = preprocessing.LabelEncoder()\n",
    "        lbl.fit(list(test_set[x].values))\n",
    "        test_set[x] = lbl.transform(list(test_set[x].values))"
   ]
  },
  {
   "cell_type": "code",
   "execution_count": 7,
   "metadata": {},
   "outputs": [
    {
     "name": "stdout",
     "output_type": "stream",
     "text": [
      "X-TRAINING DATA:\n",
      " [[    39      7  77516 ...      0     40     39]\n",
      " [    50      6  83311 ...      0     13     39]\n",
      " [    38      4 215646 ...      0     40     39]\n",
      " ...\n",
      " [    58      4 151910 ...      0     40     39]\n",
      " [    22      4 201490 ...      0     20     39]\n",
      " [    52      5 287927 ...      0     40     39]]\n",
      "X-TEST DATA:\n",
      " [[8.00000e+00 4.00000e+00 2.26802e+05 ... 0.00000e+00 4.00000e+01\n",
      "  3.80000e+01]\n",
      " [2.10000e+01 4.00000e+00 8.98140e+04 ... 0.00000e+00 5.00000e+01\n",
      "  3.80000e+01]\n",
      " [1.10000e+01 2.00000e+00 3.36951e+05 ... 0.00000e+00 4.00000e+01\n",
      "  3.80000e+01]\n",
      " ...\n",
      " [2.10000e+01 4.00000e+00 3.74983e+05 ... 0.00000e+00 5.00000e+01\n",
      "  3.80000e+01]\n",
      " [2.70000e+01 4.00000e+00 8.38910e+04 ... 0.00000e+00 4.00000e+01\n",
      "  3.80000e+01]\n",
      " [1.80000e+01 5.00000e+00 1.82148e+05 ... 0.00000e+00 6.00000e+01\n",
      "  3.80000e+01]]\n",
      "Y-TRAINING DATA:\n",
      " [0 0 0 ... 0 0 1]\n",
      "Y-TEST DATA:\n",
      " [0 0 1 ... 0 0 1]\n"
     ]
    }
   ],
   "source": [
    "# Splitting the dataset into 'X' and 'Y'column for Training set and Test set\n",
    "X_train= train_set.iloc[:, :14].values\n",
    "y_train= train_set.iloc[:, 14].values\n",
    "X_test= test_set.iloc[:, :14].values\n",
    "y_test= test_set.iloc[:, 14].values\n",
    "print(\"X-TRAINING DATA:\\n\",X_train)\n",
    "print(\"X-TEST DATA:\\n\",X_test)\n",
    "print(\"Y-TRAINING DATA:\\n\",y_train)\n",
    "print(\"Y-TEST DATA:\\n\",y_test)"
   ]
  },
  {
   "cell_type": "code",
   "execution_count": 10,
   "metadata": {},
   "outputs": [
    {
     "name": "stdout",
     "output_type": "stream",
     "text": [
      "X-TRAINING DATA AFTER FEATURE SCALING:\n",
      " [[ 0.03067056  2.15057856 -1.06361075 ... -0.21665953 -0.03542945\n",
      "   0.29156857]\n",
      " [ 0.83710898  1.46373585 -1.008707   ... -0.21665953 -2.22215312\n",
      "   0.29156857]\n",
      " [-0.04264203  0.09005041  0.2450785  ... -0.21665953 -0.03542945\n",
      "   0.29156857]\n",
      " ...\n",
      " [ 1.42360965  0.09005041 -0.35877741 ... -0.21665953 -0.03542945\n",
      "   0.29156857]\n",
      " [-1.21564337  0.09005041  0.11095988 ... -0.21665953 -1.65522476\n",
      "   0.29156857]\n",
      " [ 0.98373415  0.77689313  0.92989258 ... -0.21665953 -0.03542945\n",
      "   0.29156857]]\n",
      "X-TEST DATA AFTER FEATURE SCALING:\n",
      " [[-2.24201954  0.09005041  0.35077413 ... -0.21665953 -0.03542945\n",
      "   0.16375118]\n",
      " [-1.28895595  0.09005041 -0.94709543 ... -0.21665953  0.77446821\n",
      "   0.16375118]\n",
      " [-2.02208179 -1.28363502  1.39436215 ... -0.21665953 -0.03542945\n",
      "   0.16375118]\n",
      " ...\n",
      " [-1.28895595  0.09005041  1.75468988 ... -0.21665953  0.77446821\n",
      "   0.16375118]\n",
      " [-0.84908045  0.09005041 -1.00321189 ... -0.21665953 -0.03542945\n",
      "   0.16375118]\n",
      " [-1.5088937   0.77689313 -0.07229261 ... -0.21665953  1.58436587\n",
      "   0.16375118]]\n"
     ]
    }
   ],
   "source": [
    "# Feature Scaling X data set\n",
    "sc = StandardScaler()\n",
    "X_train = sc.fit_transform(X_train)\n",
    "X_test = sc.transform(X_test)\n",
    "print(\"X-TRAINING DATA AFTER FEATURE SCALING:\\n\",X_train)\n",
    "print(\"X-TEST DATA AFTER FEATURE SCALING:\\n\",X_test)"
   ]
  },
  {
   "cell_type": "code",
   "execution_count": 23,
   "metadata": {},
   "outputs": [
    {
     "name": "stdout",
     "output_type": "stream",
     "text": [
      "[0 0 0 ... 0 0 0]\n",
      "XGBoost CONFUSIONMATRIX:\n",
      " [[12239   196]\n",
      " [ 2409  1437]]\n",
      "XG_BOOST Accuracy: 0.8400\n",
      "             precision    recall  f1-score   support\n",
      "\n",
      "          0       0.84      0.98      0.90     12435\n",
      "          1       0.88      0.37      0.52      3846\n",
      "\n",
      "avg / total       0.85      0.84      0.81     16281\n",
      "\n",
      "variance of XG_Boost classifier: 0.8400\n"
     ]
    },
    {
     "name": "stderr",
     "output_type": "stream",
     "text": [
      "C:\\Users\\Akumarx084109\\AppData\\Local\\Continuum\\anaconda3\\lib\\site-packages\\sklearn\\preprocessing\\label.py:151: DeprecationWarning: The truth value of an empty array is ambiguous. Returning False, but in future this will result in an error. Use `array.size > 0` to check that an array is not empty.\n",
      "  if diff:\n",
      "C:\\Users\\Akumarx084109\\AppData\\Local\\Continuum\\anaconda3\\lib\\site-packages\\sklearn\\preprocessing\\label.py:151: DeprecationWarning: The truth value of an empty array is ambiguous. Returning False, but in future this will result in an error. Use `array.size > 0` to check that an array is not empty.\n",
      "  if diff:\n"
     ]
    }
   ],
   "source": [
    "# Fitting XGBoost classifier to the Training set\n",
    "XB_classifier = XGBClassifier()\n",
    "XB_classifier.fit(X_train, y_train)\n",
    "# Predicting the Test set results from XGBoost classifier\n",
    "XB_Y_pred = XB_classifier.predict(X_test)\n",
    "print(XB_Y_pred)\n",
    "XB_cm = confusion_matrix(y_test, XB_Y_pred)\n",
    "print(\"XGBoost CONFUSIONMATRIX:\\n\",XB_cm)\n",
    "XB_accuracy = metrics.accuracy_score(y_test, XB_Y_pred)\n",
    "print('XG_BOOST Accuracy: {:.4f}'.format(XB_accuracy))\n",
    "#Classification Report for XG-Boost classifier\n",
    "print(metrics.classification_report(y_test, XB_Y_pred))\n",
    "print(\"variance of XG_Boost classifier: {:.4f}\".format(XB_classifier.score(X_test,y_test)))"
   ]
  },
  {
   "cell_type": "code",
   "execution_count": 24,
   "metadata": {},
   "outputs": [
    {
     "name": "stdout",
     "output_type": "stream",
     "text": [
      "Random Forest CONFUSIONMATRIX:\n",
      " [[12176   259]\n",
      " [ 2376  1470]]\n",
      "Random Forest Accuracy: 0.8382\n",
      "             precision    recall  f1-score   support\n",
      "\n",
      "          0       0.84      0.98      0.90     12435\n",
      "          1       0.85      0.38      0.53      3846\n",
      "\n",
      "avg / total       0.84      0.84      0.81     16281\n",
      "\n",
      "variance of Random Forest classifier: 0.8382\n"
     ]
    }
   ],
   "source": [
    "# Fitting Random Forest classifier to the Training set\n",
    "RF_classifier = RandomForestClassifier(n_estimators = 10, criterion = 'entropy', random_state = 0)\n",
    "RF_classifier.fit(X_train, y_train)\n",
    "\n",
    "# Predicting the Test set results\n",
    "RF_y_pred = RF_classifier.predict(X_test)\n",
    "\n",
    "# Making the Confusion Matrix\n",
    "from sklearn.metrics import confusion_matrix\n",
    "RF_cm = confusion_matrix(y_test, RF_y_pred)\n",
    "print(\"Random Forest CONFUSIONMATRIX:\\n\",RF_cm)\n",
    "RF_accuracy = metrics.accuracy_score(y_test, RF_y_pred)\n",
    "print('Random Forest Accuracy: {:.4f}'.format(RF_accuracy))\n",
    "#Classification Report for Random Forest Classifier\n",
    "print(metrics.classification_report(y_test, RF_y_pred))\n",
    "print(\"variance of Random Forest classifier: %.4f\" %RF_classifier.score(X_test,y_test))"
   ]
  },
  {
   "cell_type": "code",
   "execution_count": 25,
   "metadata": {},
   "outputs": [
    {
     "name": "stdout",
     "output_type": "stream",
     "text": [
      "Decision Tree CONFUSIONMATRIX:\n",
      " [[11743   692]\n",
      " [ 2186  1660]]\n",
      "Decision Tree Accuracy: 0.8232\n",
      "             precision    recall  f1-score   support\n",
      "\n",
      "          0       0.84      0.94      0.89     12435\n",
      "          1       0.71      0.43      0.54      3846\n",
      "\n",
      "avg / total       0.81      0.82      0.81     16281\n",
      "\n",
      "variance of Decision Tree classifier: 0.8232\n"
     ]
    }
   ],
   "source": [
    "# Fitting Decision Tree Classification to the Training set\n",
    "DT_classifier = DecisionTreeClassifier(criterion = 'entropy', random_state = 0)\n",
    "DT_classifier.fit(X_train, y_train)\n",
    "\n",
    "# Predicting the Test set results\n",
    "DT_y_pred = DT_classifier.predict(X_test)\n",
    "\n",
    "# Making the Confusion Matrix\n",
    "DT_cm = confusion_matrix(y_test, DT_y_pred)\n",
    "print(\"Decision Tree CONFUSIONMATRIX:\\n\",DT_cm)\n",
    "DT_accuracy = metrics.accuracy_score(y_test, DT_y_pred)\n",
    "print('Decision Tree Accuracy: {:.4f}'.format(DT_accuracy))\n",
    "#Classification Report for Decision Tree classifier\n",
    "print(metrics.classification_report(y_test, DT_y_pred))\n",
    "print(\"variance of Decision Tree classifier: %.4f\" %DT_classifier.score(X_test,y_test))"
   ]
  },
  {
   "cell_type": "markdown",
   "metadata": {},
   "source": [
    "2. Which factors are important"
   ]
  },
  {
   "cell_type": "markdown",
   "metadata": {},
   "source": [
    "Below mentioned two parameters are important to choose the best classification algorithm.\n",
    "    1. overall classification accuracy\n",
    "    2. variance in accuracy that determines the stability and consistency of an algorithm."
   ]
  },
  {
   "cell_type": "markdown",
   "metadata": {},
   "source": [
    "3. Which algorithms are best for this dataset"
   ]
  },
  {
   "cell_type": "markdown",
   "metadata": {},
   "source": [
    "As per Overall classification accuracy and variance in accuracy \"XG BOOST CLASSIFIER\" is best for this dataset."
   ]
  }
 ],
 "metadata": {
  "kernelspec": {
   "display_name": "Python 3",
   "language": "python",
   "name": "python3"
  },
  "language_info": {
   "codemirror_mode": {
    "name": "ipython",
    "version": 3
   },
   "file_extension": ".py",
   "mimetype": "text/x-python",
   "name": "python",
   "nbconvert_exporter": "python",
   "pygments_lexer": "ipython3",
   "version": "3.6.5"
  }
 },
 "nbformat": 4,
 "nbformat_minor": 2
}
